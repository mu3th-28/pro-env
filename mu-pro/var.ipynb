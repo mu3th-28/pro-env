{
 "cells": [
  {
   "cell_type": "code",
   "execution_count": 2,
   "metadata": {},
   "outputs": [],
   "source": [
    "from numpy import random as re\n",
    "from pandas import DataFrame as df\n",
    "from matplotlib import pyplot as plt"
   ]
  },
  {
   "cell_type": "code",
   "execution_count": 3,
   "metadata": {},
   "outputs": [],
   "source": [
    "a = 120\n",
    "s = 350\n",
    "d = 100\n",
    "colname = ['A0','B0','C0','D0','E0','F0','G0','H0','I0','J0']\n",
    "rowname = ['au','bu','cu','du','eu','fu','gu','hu','iu','ju']\n",
    "\n",
    "randnum = re.randint(a,s,d).reshape(10,10)\n",
    "fdata = df(randnum, index=rowname, columns=colname)"
   ]
  }
 ],
 "metadata": {
  "kernelspec": {
   "display_name": "pro-env",
   "language": "python",
   "name": "python3"
  },
  "language_info": {
   "codemirror_mode": {
    "name": "ipython",
    "version": 3
   },
   "file_extension": ".py",
   "mimetype": "text/x-python",
   "name": "python",
   "nbconvert_exporter": "python",
   "pygments_lexer": "ipython3",
   "version": "3.12.0"
  }
 },
 "nbformat": 4,
 "nbformat_minor": 2
}
